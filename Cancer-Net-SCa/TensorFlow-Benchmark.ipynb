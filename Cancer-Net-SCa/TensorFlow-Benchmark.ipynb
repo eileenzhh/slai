{
 "cells": [
  {
   "cell_type": "code",
   "execution_count": 1,
   "id": "813864ec",
   "metadata": {},
   "outputs": [
    {
     "name": "stderr",
     "output_type": "stream",
     "text": [
      "2023-12-04 19:11:15.172344: I tensorflow/core/platform/cpu_feature_guard.cc:182] This TensorFlow binary is optimized to use available CPU instructions in performance-critical operations.\n",
      "To enable the following instructions: AVX2 FMA, in other operations, rebuild TensorFlow with the appropriate compiler flags.\n"
     ]
    },
    {
     "name": "stdout",
     "output_type": "stream",
     "text": [
      "1/1 [==============================] - 1s 1s/step\n",
      "Predictions: [('n01484850', 'great_white_shark', 0.99891245), ('n01491361', 'tiger_shark', 0.000977401), ('n02398521', 'hippopotamus', 4.2893742e-05)]\n",
      "Elapsed time: 1.1019260883331299\n"
     ]
    }
   ],
   "source": [
    "import tensorflow as tf\n",
    "from tensorflow.keras.applications.resnet50 import ResNet50, preprocess_input, decode_predictions\n",
    "from tensorflow.keras.preprocessing import image\n",
    "import numpy as np\n",
    "import time\n",
    "\n",
    "# Load the pre-trained ResNet-50 model\n",
    "model = ResNet50(weights='imagenet')\n",
    "\n",
    "# Load and preprocess an image\n",
    "img_path = 'great_white_shark.jpg'  # Replace with your image path\n",
    "img = image.load_img(img_path, target_size=(224, 224))\n",
    "img_array = image.img_to_array(img)\n",
    "img_array = np.expand_dims(img_array, axis=0)\n",
    "img_array = preprocess_input(img_array)\n",
    "\n",
    "# Benchmarking\n",
    "start_time = time.time()\n",
    "predictions = model.predict(img_array)\n",
    "elapsed_time = time.time() - start_time\n",
    "\n",
    "# Decode predictions\n",
    "decoded_predictions = decode_predictions(predictions, top=3)[0]\n",
    "print('Predictions:', decoded_predictions)\n",
    "print('Elapsed time:', elapsed_time)\n"
   ]
  },
  {
   "cell_type": "code",
   "execution_count": null,
   "id": "0b3d01b6",
   "metadata": {},
   "outputs": [],
   "source": []
  }
 ],
 "metadata": {
  "kernelspec": {
   "display_name": "Python 3 (ipykernel)",
   "language": "python",
   "name": "python3"
  },
  "language_info": {
   "codemirror_mode": {
    "name": "ipython",
    "version": 3
   },
   "file_extension": ".py",
   "mimetype": "text/x-python",
   "name": "python",
   "nbconvert_exporter": "python",
   "pygments_lexer": "ipython3",
   "version": "3.11.6"
  }
 },
 "nbformat": 4,
 "nbformat_minor": 5
}
